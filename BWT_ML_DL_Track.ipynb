{
  "cells": [
    {
      "attachments": {},
      "cell_type": "markdown",
      "metadata": {
        "id": "-0KIFZyOvfPt"
      },
      "source": [
        "#Question 1: User Information and Validation"
      ]
    },
    {
      "cell_type": "code",
      "execution_count": null,
      "metadata": {
        "colab": {
          "base_uri": "https://localhost:8080/"
        },
        "id": "WkDZ9vf3tvO7",
        "outputId": "51a4fa8a-ec22-40be-8a42-da1169ea23aa"
      },
      "outputs": [],
      "source": [
        "import re\n",
        "\n",
        "def get_user_input():\n",
        "    user_data = {}\n",
        "\n",
        "    user_data['name'] = input(\"Enter your name: \")\n",
        "    user_data['age'] = input(\"Enter your age: \")\n",
        "    user_data['email'] = input(\"Enter your email: \")\n",
        "    user_data['favorite number'] = input(\"Enter your favorite number: \")\n",
        "\n",
        "    return user_data\n",
        "\n",
        "def validate_email(email):\n",
        "    # Simple regex for validation of email address\n",
        "    pattern = r\"^[a-zA-Z0-9_.+-]+@[a-zA-Z0-9-]+\\.[a-zA-Z0-9-.]+$\"\n",
        "    if re.match(pattern, email):\n",
        "        return True\n",
        "    else:\n",
        "        return False\n",
        "\n",
        "def display_message(user_data):\n",
        "    print(f\"Hello {user_data['name']}, you are {user_data['age']} years old, your email is {user_data['email']}, and your favorite number is {user_data['favorite number']}.\")\n",
        "\n",
        "def main():\n",
        "    user_data = get_user_input()\n",
        "\n",
        "    if validate_email(user_data['email']):\n",
        "        display_message(user_data)\n",
        "    else:\n",
        "        print(\"Invalid email format. Please try again.\")\n",
        "\n",
        "if __name__ == \"__main__\":\n",
        "    main()\n"
      ]
    },
    {
      "attachments": {},
      "cell_type": "markdown",
      "metadata": {
        "id": "FjKIv1g8wGyC"
      },
      "source": [
        "#Question 2: Even Number Identification"
      ]
    },
    {
      "cell_type": "code",
      "execution_count": null,
      "metadata": {
        "colab": {
          "base_uri": "https://localhost:8080/"
        },
        "id": "rBxtFa6rwPra",
        "outputId": "34c2e124-38e5-4897-f8d5-fa83deddd78a"
      },
      "outputs": [],
      "source": [
        "def Is_even(number):\n",
        "    if number % 2 == 0:\n",
        "        print(f\"The number {number} is even.\")\n",
        "        return True\n",
        "    else:\n",
        "        print(f\"The number {number} is odd.\")\n",
        "        return False\n",
        "\n",
        "# Example usage\n",
        "number = int(input(\"Enter an integer: \"))\n",
        "result = Is_even(number)\n"
      ]
    },
    {
      "attachments": {},
      "cell_type": "markdown",
      "metadata": {
        "id": "8r7CPjDnwzGS"
      },
      "source": [
        "#Question 3: Temperature Conversion"
      ]
    },
    {
      "attachments": {},
      "cell_type": "markdown",
      "metadata": {
        "id": "esyb6CS9xHcz"
      },
      "source": [
        "##Approach 1: Traditional Method"
      ]
    },
    {
      "cell_type": "code",
      "execution_count": null,
      "metadata": {
        "colab": {
          "base_uri": "https://localhost:8080/"
        },
        "id": "46BgrNzhxHHI",
        "outputId": "6bb61ccb-30cb-4af7-be8e-5e7853ab1460"
      },
      "outputs": [],
      "source": [
        "def celsius_to_fahrenheit(celsius):\n",
        "    return (celsius * 9/5) + 32\n",
        "\n",
        "def fahrenheit_to_celsius(fahrenheit):\n",
        "    return (fahrenheit - 32) * 5/9\n",
        "\n",
        "def convert_temperature(temp, scale):\n",
        "    if scale == \"C\":\n",
        "        converted_temp = celsius_to_fahrenheit(temp)\n",
        "        print(f\"{temp}°C is equal to {converted_temp:.2f}°F\")\n",
        "        return converted_temp\n",
        "    elif scale == \"F\":\n",
        "        converted_temp = fahrenheit_to_celsius(temp)\n",
        "        print(f\"{temp}°F is equal to {converted_temp:.2f}°C\")\n",
        "        return converted_temp\n",
        "    else:\n",
        "        print(\"Invalid scale. Please use 'C' for Celsius or 'F' for Fahrenheit.\")\n",
        "        return None\n",
        "\n",
        "# Example usage\n",
        "temperature = float(input(\"Enter the temperature value: \"))\n",
        "scale = input(\"Enter the scale ('C' for Celsius, 'F' for Fahrenheit): \").upper()\n",
        "\n",
        "converted_temperature = convert_temperature(temperature, scale)\n"
      ]
    },
    {
      "attachments": {},
      "cell_type": "markdown",
      "metadata": {
        "id": "t2_fOrAIw6rw"
      },
      "source": [
        "##Approach 2: Using scipy library containing the convert_temperature module"
      ]
    },
    {
      "cell_type": "code",
      "execution_count": null,
      "metadata": {
        "colab": {
          "base_uri": "https://localhost:8080/"
        },
        "id": "MK0r6FkVw2E8",
        "outputId": "680df9b8-339e-4943-8f35-4ebe0068bf08"
      },
      "outputs": [],
      "source": [
        "from scipy.constants import convert_temperature\n",
        "\n",
        "def display_converted_temperature(temp, scale):\n",
        "    if scale == \"C\":\n",
        "        converted_temp = convert_temperature(temp, 'C', 'F')\n",
        "        print(f\"{temp}°C is equal to {converted_temp:.2f}°F\")\n",
        "        return converted_temp\n",
        "    elif scale == \"F\":\n",
        "        converted_temp = convert_temperature(temp, 'F', 'C')\n",
        "        print(f\"{temp}°F is equal to {converted_temp:.2f}°C\")\n",
        "        return converted_temp\n",
        "    else:\n",
        "        print(\"Invalid scale. Please use 'C' for Celsius or 'F' for Fahrenheit.\")\n",
        "        return None\n",
        "\n",
        "# Example usage\n",
        "temperature = float(input(\"Enter the temperature value: \"))\n",
        "scale = input(\"Enter the scale ('C' for Celsius, 'F' for Fahrenheit): \").upper()\n",
        "\n",
        "converted_temperature = display_converted_temperature(temperature, scale)\n"
      ]
    },
    {
      "attachments": {},
      "cell_type": "markdown",
      "metadata": {
        "id": "wnrZ5MAxxYil"
      },
      "source": [
        "#Question 4: Mininmum and Maximum numbers"
      ]
    },
    {
      "cell_type": "code",
      "execution_count": null,
      "metadata": {
        "colab": {
          "base_uri": "https://localhost:8080/"
        },
        "id": "eWI8dUH6xkaC",
        "outputId": "302ccd83-3fd2-4a9a-ad40-e77032c506bd"
      },
      "outputs": [],
      "source": [
        "def find_max_min(numbers_list):\n",
        "    max_num = max(numbers_list)\n",
        "    min_num = min(numbers_list)\n",
        "    return max_num, min_num\n",
        "\n",
        "def get_numbers_from_user():\n",
        "    numbers_list = []\n",
        "    for i in range(5):\n",
        "        number = float(input(f\"Enter number {i + 1}: \"))\n",
        "        numbers_list.append(number)\n",
        "    return numbers_list\n",
        "\n",
        "def main():\n",
        "    numbers_list = get_numbers_from_user()\n",
        "    max_num, min_num = find_max_min(numbers_list)\n",
        "    print(f\"The maximum number is {max_num}\")\n",
        "    print(f\"The minimum number is {min_num}\")\n",
        "\n",
        "if __name__ == \"__main__\":\n",
        "    main()\n"
      ]
    },
    {
      "attachments": {},
      "cell_type": "markdown",
      "metadata": {
        "id": "n0YDFUlbxzWU"
      },
      "source": [
        "#Question 5: Students results in a python dictionary"
      ]
    },
    {
      "cell_type": "code",
      "execution_count": null,
      "metadata": {
        "colab": {
          "base_uri": "https://localhost:8080/"
        },
        "id": "JyCFNmFqx41e",
        "outputId": "7fffb12c-225d-476e-bf6a-309d4b39513d"
      },
      "outputs": [],
      "source": [
        "def get_student_details():\n",
        "    valid_grades = {'A', 'B+', 'B', 'C+', 'C', 'D', 'F'}\n",
        "    students = []\n",
        "    for i in range(3):\n",
        "        print(f\"Enter details for student {i + 1}:\")\n",
        "        name = input(\"Name: \")\n",
        "        age = int(input(\"Age: \"))\n",
        "\n",
        "        while True:\n",
        "            grade = input(\"Grade (A, B+, B, C+, C, D, F): \").upper()\n",
        "            if grade in valid_grades:\n",
        "                break\n",
        "            else:\n",
        "                print(\"Invalid grade. Please enter a valid grade (A, B+, B, C+, C, D, F).\")\n",
        "\n",
        "        students.append((name, age, grade))\n",
        "    return students\n",
        "\n",
        "def convert_to_dict(students):\n",
        "    student_dict = {}\n",
        "    for student in students:\n",
        "        name, age, grade = student\n",
        "        student_dict[name] = (age, grade)\n",
        "    return student_dict\n",
        "\n",
        "def display_students(student_dict):\n",
        "    print(\"\\nStudent details:\")\n",
        "    for name, details in student_dict.items():\n",
        "        age, grade = details\n",
        "        print(f\"Name: {name}, Age: {age}, Grade: {grade}\")\n",
        "\n",
        "def main():\n",
        "    students = get_student_details()\n",
        "    student_dict = convert_to_dict(students)\n",
        "    display_students(student_dict)\n",
        "\n",
        "if __name__ == \"__main__\":\n",
        "    main()\n"
      ]
    },
    {
      "attachments": {},
      "cell_type": "markdown",
      "metadata": {
        "id": "-vl4Tc63COnY"
      },
      "source": [
        "#Question 6: Inventory"
      ]
    },
    {
      "cell_type": "code",
      "execution_count": null,
      "metadata": {
        "colab": {
          "base_uri": "https://localhost:8080/"
        },
        "id": "gO4jZ9iLCUvv",
        "outputId": "f3ac0067-6008-47b5-dd67-1594d9517ac4"
      },
      "outputs": [],
      "source": [
        "def update_inventory(inventory_dict, item, quantity):\n",
        "    if item in inventory_dict:\n",
        "        new_quantity = inventory_dict[item] + quantity\n",
        "        inventory_dict[item] = max(0, new_quantity)  # Ensure quantity doesn't go below zero\n",
        "        if quantity > 0:\n",
        "            inventory_dict[item] = quantity\n",
        "        else:\n",
        "            inventory_dict[item] = 0\n",
        "    return inventory_dict\n",
        "\n",
        "def initialize_inventory():\n",
        "    inventory = {\n",
        "        'apples': 10,\n",
        "        'bananas': 5,\n",
        "        'oranges': 8,\n",
        "        'grapes': 12,\n",
        "        'pears': 7\n",
        "    }\n",
        "    return inventory\n",
        "\n",
        "def update_inventory_from_user(inventory):\n",
        "    for i in range(3):\n",
        "        print(f\"\\nUpdate {i + 1}:\")\n",
        "        item = input(\"Enter the item name: \")\n",
        "        quantity = int(input(\"Enter the quantity to add/remove (use negative values for removal): \"))\n",
        "        inventory = update_inventory(inventory, item, quantity)\n",
        "    return inventory\n",
        "\n",
        "def display_inventory(inventory):\n",
        "    print(\"\\nUpdated inventory:\")\n",
        "    for item, quantity in inventory.items():\n",
        "        print(f\"{item}: {quantity}\")\n",
        "\n",
        "def main():\n",
        "    inventory = initialize_inventory()\n",
        "    print(\"Initial inventory:\")\n",
        "    display_inventory(inventory)\n",
        "\n",
        "    inventory = update_inventory_from_user(inventory)\n",
        "    display_inventory(inventory)\n",
        "\n",
        "if __name__ == \"__main__\":\n",
        "    main()\n"
      ]
    },
    {
      "attachments": {},
      "cell_type": "markdown",
      "metadata": {
        "id": "JTIVW5yxFCq-"
      },
      "source": [
        "#Learning and Understandings\n",
        "### Question 1: User Information and Validation\n",
        "\n",
        "In this task, I developed a Python script to collect user information such as name, age, email, and favorite number. The script validates the email format using regular expressions, a technique I found particularly helpful for validation tasks during a project. If the email format is valid, the script displays a message with the collected user information. Otherwise, it prompts the user to enter a valid email address.\n",
        "\n",
        "### Question 2: Even Number Identification\n",
        "\n",
        "This script determines whether a given integer is even or odd. It defines a function `is_even(number)` that takes an integer input from the user and checks its parity using the modulus operator. The script then prints whether the number is even or odd.\n",
        "\n",
        "### Question 3: Temperature Conversion\n",
        "\n",
        "I implemented two approaches for temperature conversion in this script. The first approach defines conversion functions for Celsius to Fahrenheit and Fahrenheit to Celsius. The second approach uses the `scipy.constants` module, specifically the `convert_temperature` function, for conversion. Both approaches prompt the user for temperature and scale inputs, perform the conversion, and display the result.\n",
        "\n",
        "### Question 4: Minimum and Maximum Numbers\n",
        "\n",
        "This script prompts the user to enter five numbers and identifies the maximum and minimum numbers from the list using the `max()` and `min()` functions. It then prints the maximum and minimum numbers.\n",
        "\n",
        "### Question 5: Students Results in a Python Dictionary\n",
        "\n",
        "The script collects details of three students, including their names, ages, and grades. It validates the grades to ensure they are within a predefined set of valid grades. The student details are stored in a dictionary with the student name as the key and a tuple containing age and grade as the value. Finally, it displays the student details.\n",
        "\n",
        "### Question 6: Inventory Management\n",
        "\n",
        "This script manages an inventory system by allowing the user to update the quantities of items in the inventory. It initializes an inventory dictionary with some predefined items and quantities. The user can update the quantities of three items by adding or removing quantities, ensuring that the quantity of any item doesn't go below zero. The script then displays the updated inventory.\n",
        "\n",
        "While working on these tasks, I referred to various online resources, including GeeksforGeeks and Python documentation, to understand the concepts and implementation details. These resources provided valuable insights and examples that helped me develop efficient and accurate solutions."
      ]
    }
  ],
  "metadata": {
    "colab": {
      "provenance": []
    },
    "kernelspec": {
      "display_name": "Python 3",
      "name": "python3"
    },
    "language_info": {
      "name": "python"
    }
  },
  "nbformat": 4,
  "nbformat_minor": 0
}
